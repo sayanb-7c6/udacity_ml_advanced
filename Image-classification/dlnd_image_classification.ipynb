{
 "cells": [
  {
   "cell_type": "markdown",
   "metadata": {
    "collapsed": true
   },
   "source": [
    "# Image Classification\n",
    "In this project, you'll classify images from the [CIFAR-10 dataset](https://www.cs.toronto.edu/~kriz/cifar.html).  The dataset consists of airplanes, dogs, cats, and other objects. You'll preprocess the images, then train a convolutional neural network on all the samples. The images need to be normalized and the labels need to be one-hot encoded.  You'll get to apply what you learned and build a convolutional, max pooling, dropout, and fully connected layers.  At the end, you'll get to see your neural network's predictions on the sample images.\n",
    "## Get the Data\n",
    "Run the following cell to download the [CIFAR-10 dataset for python](https://www.cs.toronto.edu/~kriz/cifar-10-python.tar.gz)."
   ]
  },
  {
   "cell_type": "code",
   "execution_count": 1,
   "metadata": {},
   "outputs": [
    {
     "name": "stderr",
     "output_type": "stream",
     "text": [
      "CIFAR-10 Dataset: 171MB [01:35, 253kB/s]                                \n"
     ]
    },
    {
     "name": "stdout",
     "output_type": "stream",
     "text": [
      "All files found!\n"
     ]
    }
   ],
   "source": [
    "\"\"\"\n",
    "DON'T MODIFY ANYTHING IN THIS CELL THAT IS BELOW THIS LINE\n",
    "\"\"\"\n",
    "from urllib.request import urlretrieve\n",
    "from os.path import isfile, isdir\n",
    "from tqdm import tqdm\n",
    "import problem_unittests as tests\n",
    "import tarfile\n",
    "\n",
    "cifar10_dataset_folder_path = 'cifar-10-batches-py'\n",
    "\n",
    "# Use Floyd's cifar-10 dataset if present\n",
    "floyd_cifar10_location = '/cifar/cifar-10-python.tar.gz'\n",
    "if isfile(floyd_cifar10_location):\n",
    "    tar_gz_path = floyd_cifar10_location\n",
    "else:\n",
    "    tar_gz_path = 'cifar-10-python.tar.gz'\n",
    "\n",
    "class DLProgress(tqdm):\n",
    "    last_block = 0\n",
    "\n",
    "    def hook(self, block_num=1, block_size=1, total_size=None):\n",
    "        self.total = total_size\n",
    "        self.update((block_num - self.last_block) * block_size)\n",
    "        self.last_block = block_num\n",
    "\n",
    "if not isfile(tar_gz_path):\n",
    "    with DLProgress(unit='B', unit_scale=True, miniters=1, desc='CIFAR-10 Dataset') as pbar:\n",
    "        urlretrieve(\n",
    "            'https://www.cs.toronto.edu/~kriz/cifar-10-python.tar.gz',\n",
    "            tar_gz_path,\n",
    "            pbar.hook)\n",
    "\n",
    "if not isdir(cifar10_dataset_folder_path):\n",
    "    with tarfile.open(tar_gz_path) as tar:\n",
    "        tar.extractall()\n",
    "        tar.close()\n",
    "\n",
    "\n",
    "tests.test_folder_path(cifar10_dataset_folder_path)"
   ]
  },
  {
   "cell_type": "markdown",
   "metadata": {},
   "source": [
    "## Explore the Data\n",
    "The dataset is broken into batches to prevent your machine from running out of memory.  The CIFAR-10 dataset consists of 5 batches, named `data_batch_1`, `data_batch_2`, etc.. Each batch contains the labels and images that are one of the following:\n",
    "* airplane\n",
    "* automobile\n",
    "* bird\n",
    "* cat\n",
    "* deer\n",
    "* dog\n",
    "* frog\n",
    "* horse\n",
    "* ship\n",
    "* truck\n",
    "\n",
    "Understanding a dataset is part of making predictions on the data.  Play around with the code cell below by changing the `batch_id` and `sample_id`. The `batch_id` is the id for a batch (1-5). The `sample_id` is the id for a image and label pair in the batch.\n",
    "\n",
    "Ask yourself \"What are all possible labels?\", \"What is the range of values for the image data?\", \"Are the labels in order or random?\".  Answers to questions like these will help you preprocess the data and end up with better predictions."
   ]
  },
  {
   "cell_type": "code",
   "execution_count": 4,
   "metadata": {},
   "outputs": [
    {
     "name": "stdout",
     "output_type": "stream",
     "text": [
      "\n",
      "Stats of batch 3:\n",
      "Samples: 10000\n",
      "Label Counts: {0: 994, 1: 1042, 2: 965, 3: 997, 4: 990, 5: 1029, 6: 978, 7: 1015, 8: 961, 9: 1029}\n",
      "First 20 Labels: [8, 5, 0, 6, 9, 2, 8, 3, 6, 2, 7, 4, 6, 9, 0, 0, 7, 3, 7, 2]\n",
      "\n",
      "Example of Image 666:\n",
      "Image - Min Value: 17 Max Value: 231\n",
      "Image - Shape: (32, 32, 3)\n",
      "Label - Label Id: 6 Name: frog\n"
     ]
    },
    {
     "data": {
      "image/png": "[encoded data removed]",
      "text/plain": [
       "<Figure size 432x288 with 1 Axes>"
      ]
     },
     "metadata": {
      "image/png": {
       "height": 250,
       "width": 253
      },
      "needs_background": "light"
     },
     "output_type": "display_data"
    }
   ],
   "source": [
    "%matplotlib inline\n",
    "%config InlineBackend.figure_format = 'retina'\n",
    "\n",
    "import helper\n",
    "import numpy as np\n",
    "\n",
    "# Explore the dataset\n",
    "batch_id = 3\n",
    "sample_id = 666\n",
    "helper.display_stats(cifar10_dataset_folder_path, batch_id, sample_id)"
   ]
  },
  {
   "cell_type": "markdown",
   "metadata": {},
   "source": [
    "## Implement Preprocess Functions\n",
    "### Normalize\n",
    "In the cell below, implement the `normalize` function to take in image data, `x`, and return it as a normalized Numpy array. The values should be in the range of 0 to 1, inclusive.  The return object should be the same shape as `x`."
   ]
  },
  {
   "cell_type": "code",
   "execution_count": 5,
   "metadata": {},
   "outputs": [
    {
     "name": "stdout",
     "output_type": "stream",
     "text": [
      "Tests Passed\n"
     ]
    }
   ],
   "source": [
    "def normalize(x):\n",
    "    \"\"\"\n",
    "    Normalize a list of sample image data in the range of 0 to 1\n",
    "    : x: List of image data.  The image shape is (32, 32, 3)\n",
    "    : return: Numpy array of normalize data\n",
    "    \"\"\"\n",
    "    # TODO: Implement Function\n",
    "    return x/np.max(x)\n",
    "\n",
    "\n",
    "\"\"\"\n",
    "DON'T MODIFY ANYTHING IN THIS CELL THAT IS BELOW THIS LINE\n",
    "\"\"\"\n",
    "tests.test_normalize(normalize)"
   ]
  },
  {
   "cell_type": "markdown",
   "metadata": {},
   "source": [
    "### One-hot encode\n",
    "Just like the previous code cell, you'll be implementing a function for preprocessing.  This time, you'll implement the `one_hot_encode` function. The input, `x`, are a list of labels.  Implement the function to return the list of labels as One-Hot encoded Numpy array.  The possible values for labels are 0 to 9. The one-hot encoding function should return the same encoding for each value between each call to `one_hot_encode`.  Make sure to save the map of encodings outside the function.\n",
    "\n",
    "Hint: Don't reinvent the wheel."
   ]
  },
  {
   "cell_type": "code",
   "execution_count": 6,
   "metadata": {},
   "outputs": [
    {
     "name": "stdout",
     "output_type": "stream",
     "text": [
      "Tests Passed\n"
     ]
    }
   ],
   "source": [
    "def one_hot_encode(x):\n",
    "    \"\"\"\n",
    "    One hot encode a list of sample labels. Return a one-hot encoded vector for each label.\n",
    "    : x: List of sample Labels\n",
    "    : return: Numpy array of one-hot encoded labels\n",
    "    \"\"\"\n",
    "    num_labels = 10\n",
    "    encoded = np.eye(num_labels)[x]\n",
    "    return encoded\n",
    "\n",
    "\n",
    "\n",
    "\"\"\"\n",
    "DON'T MODIFY ANYTHING IN THIS CELL THAT IS BELOW THIS LINE\n",
    "\"\"\"\n",
    "tests.test_one_hot_encode(one_hot_encode)"
   ]
  },
  {
   "cell_type": "markdown",
   "metadata": {},
   "source": [
    "### Randomize Data\n",
    "As you saw from exploring the data above, the order of the samples are randomized.  It doesn't hurt to randomize it again, but you don't need to for this dataset."
   ]
  },
  {
   "cell_type": "markdown",
   "metadata": {},
   "source": [
    "## Preprocess all the data and save it\n",
    "Running the code cell below will preprocess all the CIFAR-10 data and save it to file. The code below also uses 10% of the training data for validation."
   ]
  },
  {
   "cell_type": "code",
   "execution_count": 7,
   "metadata": {},
   "outputs": [],
   "source": [
    "\"\"\"\n",
    "DON'T MODIFY ANYTHING IN THIS CELL\n",
    "\"\"\"\n",
    "# Preprocess Training, Validation, and Testing Data\n",
    "helper.preprocess_and_save_data(cifar10_dataset_folder_path, normalize, one_hot_encode)"
   ]
  },
  {
   "cell_type": "markdown",
   "metadata": {},
   "source": [
    "# Check Point\n",
    "This is your first checkpoint.  If you ever decide to come back to this notebook or have to restart the notebook, you can start from here.  The preprocessed data has been saved to disk."
   ]
  },
  {
   "cell_type": "code",
   "execution_count": 89,
   "metadata": {},
   "outputs": [],
   "source": [
    "\"\"\"\n",
    "DON'T MODIFY ANYTHING IN THIS CELL\n",
    "\"\"\"\n",
    "import pickle\n",
    "import problem_unittests as tests\n",
    "import helper\n",
    "\n",
    "# Load the Preprocessed Validation data\n",
    "valid_features, valid_labels = pickle.load(open('preprocess_validation.p', mode='rb'))"
   ]
  },
  {
   "cell_type": "markdown",
   "metadata": {},
   "source": [
    "## Build the network\n",
    "For the neural network, you'll build each layer into a function.  Most of the code you've seen has been outside of functions. To test your code more thoroughly, we require that you put each layer in a function.  This allows us to give you better feedback and test for simple mistakes using our unittests before you submit your project.\n",
    "\n",
    ">**Note:** If you're finding it hard to dedicate enough time for this course each week, we've provided a small shortcut to this part of the project. In the next couple of problems, you'll have the option to use classes from the [TensorFlow Layers](https://www.tensorflow.org/api_docs/python/tf/layers) or [TensorFlow Layers (contrib)](https://www.tensorflow.org/api_guides/python/contrib.layers) packages to build each layer, except the layers you build in the \"Convolutional and Max Pooling Layer\" section.  TF Layers is similar to Keras's and TFLearn's abstraction to layers, so it's easy to pickup.\n",
    "\n",
    ">However, if you would like to get the most out of this course, try to solve all the problems _without_ using anything from the TF Layers packages. You **can** still use classes from other packages that happen to have the same name as ones you find in TF Layers! For example, instead of using the TF Layers version of the `conv2d` class, [tf.layers.conv2d](https://www.tensorflow.org/api_docs/python/tf/layers/conv2d), you would want to use the TF Neural Network version of `conv2d`, [tf.nn.conv2d](https://www.tensorflow.org/api_docs/python/tf/nn/conv2d). \n",
    "\n",
    "Let's begin!\n",
    "\n",
    "### Input\n",
    "The neural network needs to read the image data, one-hot encoded labels, and dropout keep probability. Implement the following functions\n",
    "* Implement `neural_net_image_input`\n",
    " * Return a [TF Placeholder](https://www.tensorflow.org/api_docs/python/tf/placeholder)\n",
    " * Set the shape using `image_shape` with batch size set to `None`.\n",
    " * Name the TensorFlow placeholder \"x\" using the TensorFlow `name` parameter in the [TF Placeholder](https://www.tensorflow.org/api_docs/python/tf/placeholder).\n",
    "* Implement `neural_net_label_input`\n",
    " * Return a [TF Placeholder](https://www.tensorflow.org/api_docs/python/tf/placeholder)\n",
    " * Set the shape using `n_classes` with batch size set to `None`.\n",
    " * Name the TensorFlow placeholder \"y\" using the TensorFlow `name` parameter in the [TF Placeholder](https://www.tensorflow.org/api_docs/python/tf/placeholder).\n",
    "* Implement `neural_net_keep_prob_input`\n",
    " * Return a [TF Placeholder](https://www.tensorflow.org/api_docs/python/tf/placeholder) for dropout keep probability.\n",
    " * Name the TensorFlow placeholder \"keep_prob\" using the TensorFlow `name` parameter in the [TF Placeholder](https://www.tensorflow.org/api_docs/python/tf/placeholder).\n",
    "\n",
    "These names will be used at the end of the project to load your saved model.\n",
    "\n",
    "Note: `None` for shapes in TensorFlow allow for a dynamic size."
   ]
  },
  {
   "cell_type": "code",
   "execution_count": 90,
   "metadata": {},
   "outputs": [
    {
     "name": "stdout",
     "output_type": "stream",
     "text": [
      "Image Input Tests Passed.\n",
      "Label Input Tests Passed.\n",
      "Keep Prob Tests Passed.\n"
     ]
    }
   ],
   "source": [
    "import tensorflow as tf\n",
    "\n",
    "def neural_net_image_input(image_shape):\n",
    "    \"\"\"\n",
    "    Return a Tensor for a batch of image input\n",
    "    : image_shape: Shape of the images\n",
    "    : return: Tensor for image input.\n",
    "    \"\"\"\n",
    "    # TODO: Implement Function\n",
    "    return tf.placeholder(tf.float32, [None, image_shape[0], image_shape[1], image_shape[2]], name='x')\n",
    "\n",
    "\n",
    "def neural_net_label_input(n_classes):\n",
    "    \"\"\"\n",
    "    Return a Tensor for a batch of label input\n",
    "    : n_classes: Number of classes\n",
    "    : return: Tensor for label input.\n",
    "    \"\"\"\n",
    "    # TODO: Implement Function\n",
    "    return tf.placeholder(tf.float32, [None, n_classes], name='y')\n",
    "\n",
    "\n",
    "def neural_net_keep_prob_input():\n",
    "    \"\"\"\n",
    "    Return a Tensor for keep probability\n",
    "    : return: Tensor for keep probability.\n",
    "    \"\"\"\n",
    "    # TODO: Implement Function\n",
    "    return tf.placeholder(tf.float32, name='keep_prob')\n",
    "\n",
    "\n",
    "\"\"\"\n",
    "DON'T MODIFY ANYTHING IN THIS CELL THAT IS BELOW THIS LINE\n",
    "\"\"\"\n",
    "tf.reset_default_graph()\n",
    "tests.test_nn_image_inputs(neural_net_image_input)\n",
    "tests.test_nn_label_inputs(neural_net_label_input)\n",
    "tests.test_nn_keep_prob_inputs(neural_net_keep_prob_input)"
   ]
  },
  {
   "cell_type": "markdown",
   "metadata": {},
   "source": [
    "### Convolution and Max Pooling Layer\n",
    "Convolution layers have a lot of success with images. For this code cell, you should implement the function `conv2d_maxpool` to apply convolution then max pooling:\n",
    "* Create the weight and bias using `conv_ksize`, `conv_num_outputs` and the shape of `x_tensor`.\n",
    "* Apply a convolution to `x_tensor` using weight and `conv_strides`.\n",
    " * We recommend you use same padding, but you're welcome to use any padding.\n",
    "* Add bias\n",
    "* Add a nonlinear activation to the convolution.\n",
    "* Apply Max Pooling using `pool_ksize` and `pool_strides`.\n",
    " * We recommend you use same padding, but you're welcome to use any padding.\n",
    "\n",
    "**Note:** You **can't** use [TensorFlow Layers](https://www.tensorflow.org/api_docs/python/tf/layers) or [TensorFlow Layers (contrib)](https://www.tensorflow.org/api_guides/python/contrib.layers) for **this** layer, but you can still use TensorFlow's [Neural Network](https://www.tensorflow.org/api_docs/python/tf/nn) package. You may still use the shortcut option for all the **other** layers."
   ]
  },
  {
   "cell_type": "code",
   "execution_count": 91,
   "metadata": {},
   "outputs": [
    {
     "name": "stdout",
     "output_type": "stream",
     "text": [
      "Tests Passed\n"
     ]
    }
   ],
   "source": [
    "def conv2d_maxpool(x_tensor, conv_num_outputs, conv_ksize, conv_strides, pool_ksize, pool_strides):\n",
    "    \"\"\"\n",
    "    Apply convolution then max pooling to x_tensor\n",
    "    :param x_tensor: TensorFlow Tensor\n",
    "    :param conv_num_outputs: Number of outputs for the convolutional layer\n",
    "    :param conv_ksize: kernal size 2-D Tuple for the convolutional layer\n",
    "    :param conv_strides: Stride 2-D Tuple for convolution\n",
    "    :param pool_ksize: kernal size 2-D Tuple for pool\n",
    "    :param pool_strides: Stride 2-D Tuple for pool\n",
    "    : return: A tensor that represents convolution and max pooling of x_tensor\n",
    "    \"\"\"\n",
    "    filter_h = conv_ksize[0] \n",
    "    filter_w = conv_ksize[1] \n",
    "    color_channels = x_tensor.shape[3].value\n",
    "    \n",
    "    # weights\n",
    "    weights = tf.Variable(tf.truncated_normal([filter_h, filter_w, \n",
    "                            color_channels , conv_num_outputs], stddev = 0.005))\n",
    "    # bias \n",
    "    bias = tf.Variable(tf.random_normal([conv_num_outputs]))\n",
    "    \n",
    "    pool = tf.nn.conv2d(x_tensor, weights, strides = [1, conv_strides[0], \n",
    "                            conv_strides[1], 1], padding = \"SAME\")\n",
    "    pool = tf.nn.bias_add(pool, bias)\n",
    "    pool = tf.nn.relu(pool)\n",
    "    pool = tf.nn.max_pool(pool, ksize = [1, pool_ksize[0], pool_ksize[1], 1],\n",
    "                            strides = [1, pool_strides[0], pool_strides[1], 1],\n",
    "                            padding = \"SAME\")\n",
    "    return pool \n",
    "\n",
    "\"\"\"\n",
    "DON'T MODIFY ANYTHING IN THIS CELL THAT IS BELOW THIS LINE\n",
    "\"\"\"\n",
    "tests.test_con_pool(conv2d_maxpool)"
   ]
  },
  {
   "cell_type": "markdown",
   "metadata": {},
   "source": [
    "### Flatten Layer\n",
    "Implement the `flatten` function to change the dimension of `x_tensor` from a 4-D tensor to a 2-D tensor.  The output should be the shape (*Batch Size*, *Flattened Image Size*). Shortcut option: you can use classes from the [TensorFlow Layers](https://www.tensorflow.org/api_docs/python/tf/layers) or [TensorFlow Layers (contrib)](https://www.tensorflow.org/api_guides/python/contrib.layers) packages for this layer. For more of a challenge, only use other TensorFlow packages."
   ]
  },
  {
   "cell_type": "code",
   "execution_count": 92,
   "metadata": {},
   "outputs": [
    {
     "name": "stdout",
     "output_type": "stream",
     "text": [
      "Tests Passed\n"
     ]
    }
   ],
   "source": [
    "def flatten(x_tensor):\n",
    "    \"\"\"\n",
    "    Flatten x_tensor to (Batch Size, Flattened Image Size)\n",
    "    : x_tensor: A tensor of size (Batch Size, ...), where ... are the image dimensions.\n",
    "    : return: A tensor of size (Batch Size, Flattened Image Size).\n",
    "    \"\"\"\n",
    "    # TODO: Implement Function\n",
    "    return tf.contrib.layers.flatten(x_tensor)\n",
    "\n",
    "\n",
    "\"\"\"\n",
    "DON'T MODIFY ANYTHING IN THIS CELL THAT IS BELOW THIS LINE\n",
    "\"\"\"\n",
    "tests.test_flatten(flatten)"
   ]
  },
  {
   "cell_type": "markdown",
   "metadata": {},
   "source": [
    "### Fully-Connected Layer\n",
    "Implement the `fully_conn` function to apply a fully connected layer to `x_tensor` with the shape (*Batch Size*, *num_outputs*). Shortcut option: you can use classes from the [TensorFlow Layers](https://www.tensorflow.org/api_docs/python/tf/layers) or [TensorFlow Layers (contrib)](https://www.tensorflow.org/api_guides/python/contrib.layers) packages for this layer. For more of a challenge, only use other TensorFlow packages."
   ]
  },
  {
   "cell_type": "code",
   "execution_count": 93,
   "metadata": {},
   "outputs": [
    {
     "name": "stdout",
     "output_type": "stream",
     "text": [
      "Tests Passed\n"
     ]
    }
   ],
   "source": [
    "def fully_conn(x_tensor, num_outputs):\n",
    "    \"\"\"\n",
    "    Apply a fully connected layer to x_tensor using weight and bias\n",
    "    : x_tensor: A 2-D tensor where the first dimension is batch size.\n",
    "    : num_outputs: The number of output that the new tensor should be.\n",
    "    : return: A 2-D tensor where the second dimension is num_outputs.\n",
    "    \"\"\"\n",
    "    # TODO: Implement Function\n",
    "    size = x_tensor.shape[1].value\n",
    "    weights = tf.Variable(tf.truncated_normal([size, num_outputs], stddev=0.05))\n",
    "    bias = tf.Variable(tf.truncated_normal([num_outputs]))\n",
    "    return tf.nn.relu(tf.add(tf.matmul(x_tensor, weights), bias))\n",
    "\n",
    "\n",
    "\"\"\"\n",
    "DON'T MODIFY ANYTHING IN THIS CELL THAT IS BELOW THIS LINE\n",
    "\"\"\"\n",
    "tests.test_fully_conn(fully_conn)"
   ]
  },
  {
   "cell_type": "markdown",
   "metadata": {},
   "source": [
    "### Output Layer\n",
    "Implement the `output` function to apply a fully connected layer to `x_tensor` with the shape (*Batch Size*, *num_outputs*). Shortcut option: you can use classes from the [TensorFlow Layers](https://www.tensorflow.org/api_docs/python/tf/layers) or [TensorFlow Layers (contrib)](https://www.tensorflow.org/api_guides/python/contrib.layers) packages for this layer. For more of a challenge, only use other TensorFlow packages.\n",
    "\n",
    "**Note:** Activation, softmax, or cross entropy should **not** be applied to this."
   ]
  },
  {
   "cell_type": "code",
   "execution_count": 94,
   "metadata": {},
   "outputs": [
    {
     "name": "stdout",
     "output_type": "stream",
     "text": [
      "Tests Passed\n"
     ]
    }
   ],
   "source": [
    "def output(x_tensor, num_outputs):\n",
    "    \"\"\"\n",
    "    Apply a output layer to x_tensor using weight and bias\n",
    "    : x_tensor: A 2-D tensor where the first dimension is batch size.\n",
    "    : num_outputs: The number of output that the new tensor should be.\n",
    "    : return: A 2-D tensor where the second dimension is num_outputs.\n",
    "    \"\"\"\n",
    "    # TODO: Implement Function\n",
    "    size = x_tensor.shape[1].value\n",
    "    weights = tf.Variable(tf.truncated_normal([size, num_outputs], stddev=0.05))\n",
    "    bias = tf.Variable(tf.truncated_normal([num_outputs]))    \n",
    "    out = tf.add(tf.matmul(x_tensor, weights), bias)\n",
    "    return out\n",
    "\n",
    "\n",
    "\"\"\"\n",
    "DON'T MODIFY ANYTHING IN THIS CELL THAT IS BELOW THIS LINE\n",
    "\"\"\"\n",
    "tests.test_output(output)"
   ]
  },
  {
   "cell_type": "markdown",
   "metadata": {},
   "source": [
    "### Create Convolutional Model\n",
    "Implement the function `conv_net` to create a convolutional neural network model. The function takes in a batch of images, `x`, and outputs logits.  Use the layers you created above to create this model:\n",
    "\n",
    "* Apply 1, 2, or 3 Convolution and Max Pool layers\n",
    "* Apply a Flatten Layer\n",
    "* Apply 1, 2, or 3 Fully Connected Layers\n",
    "* Apply an Output Layer\n",
    "* Return the output\n",
    "* Apply [TensorFlow's Dropout](https://www.tensorflow.org/api_docs/python/tf/nn/dropout) to one or more layers in the model using `keep_prob`. "
   ]
  },
  {
   "cell_type": "code",
   "execution_count": 157,
   "metadata": {},
   "outputs": [
    {
     "name": "stdout",
     "output_type": "stream",
     "text": [
      "Neural Network Built!\n"
     ]
    }
   ],
   "source": [
    "def conv_net(x, keep_prob):\n",
    "    \"\"\"\n",
    "    Create a convolutional neural network model\n",
    "    : x: Placeholder tensor that holds image data.\n",
    "    : keep_prob: Placeholder tensor that hold dropout keep probability.\n",
    "    : return: Tensor that represents logits\n",
    "    \"\"\"\n",
    "    # TODO: Apply 1, 2, or 3 Convolution and Max Pool layers\n",
    "    #    Play around with different number of outputs, kernel size and stride\n",
    "    # Function Definition from Above:\n",
    "    #    conv2d_maxpool(x_tensor, conv_num_outputs, conv_ksize, conv_strides, pool_ksize, pool_strides)\n",
    "    c_layer = conv2d_maxpool(x, 128, (4,4), (2,2), (3,3), (2,2))    \n",
    "\n",
    "    # TODO: Apply a Flatten Layer\n",
    "    # Function Definition from Above:\n",
    "    #   flatten(x_tensor)\n",
    "    fl_layer = flatten(c_layer)    \n",
    "\n",
    "    # TODO: Apply 1, 2, or 3 Fully Connected Layers\n",
    "    #    Play around with different number of outputs\n",
    "    # Function Definition from Above:\n",
    "    #   fully_conn(x_tensor, num_outputs)\n",
    "    fc_layer1 = fully_conn(fl_layer, 256)\n",
    "    fc_layer2 = fully_conn(fc_layer1, 64)\n",
    "    fc_layer2 = tf.nn.dropout(fc_layer2, keep_prob)\n",
    "    \n",
    "    # TODO: Apply an Output Layer\n",
    "    #    Set this to the number of classes\n",
    "    # Function Definition from Above:\n",
    "    #   output(x_tensor, num_outputs)\n",
    "    op_layer = output(fc_layer2, 10)\n",
    "    \n",
    "    # TODO: return output\n",
    "    return op_layer\n",
    "\n",
    "\n",
    "\"\"\"\n",
    "DON'T MODIFY ANYTHING IN THIS CELL THAT IS BELOW THIS LINE\n",
    "\"\"\"\n",
    "\n",
    "##############################\n",
    "## Build the Neural Network ##\n",
    "##############################\n",
    "\n",
    "# Remove previous weights, bias, inputs, etc..\n",
    "tf.reset_default_graph()\n",
    "\n",
    "# Inputs\n",
    "x = neural_net_image_input((32, 32, 3))\n",
    "y = neural_net_label_input(10)\n",
    "keep_prob = neural_net_keep_prob_input()\n",
    "\n",
    "# Model\n",
    "logits = conv_net(x, keep_prob)\n",
    "\n",
    "# Name logits Tensor, so that is can be loaded from disk after training\n",
    "logits = tf.identity(logits, name='logits')\n",
    "\n",
    "# Loss and Optimizer\n",
    "cost = tf.reduce_mean(tf.nn.softmax_cross_entropy_with_logits(logits=logits, labels=y))\n",
    "optimizer = tf.train.AdamOptimizer().minimize(cost)\n",
    "\n",
    "# Accuracy\n",
    "correct_pred = tf.equal(tf.argmax(logits, 1), tf.argmax(y, 1))\n",
    "accuracy = tf.reduce_mean(tf.cast(correct_pred, tf.float32), name='accuracy')\n",
    "\n",
    "tests.test_conv_net(conv_net)"
   ]
  },
  {
   "cell_type": "markdown",
   "metadata": {},
   "source": [
    "## Train the Neural Network\n",
    "### Single Optimization\n",
    "Implement the function `train_neural_network` to do a single optimization.  The optimization should use `optimizer` to optimize in `session` with a `feed_dict` of the following:\n",
    "* `x` for image input\n",
    "* `y` for labels\n",
    "* `keep_prob` for keep probability for dropout\n",
    "\n",
    "This function will be called for each batch, so `tf.global_variables_initializer()` has already been called.\n",
    "\n",
    "Note: Nothing needs to be returned. This function is only optimizing the neural network."
   ]
  },
  {
   "cell_type": "code",
   "execution_count": 158,
   "metadata": {},
   "outputs": [
    {
     "name": "stdout",
     "output_type": "stream",
     "text": [
      "Tests Passed\n"
     ]
    }
   ],
   "source": [
    "def train_neural_network(session, optimizer, keep_probability, feature_batch, label_batch):\n",
    "    \"\"\"\n",
    "    Optimize the session on a batch of images and labels\n",
    "    : session: Current TensorFlow session\n",
    "    : optimizer: TensorFlow optimizer function\n",
    "    : keep_probability: keep probability\n",
    "    : feature_batch: Batch of Numpy image data\n",
    "    : label_batch: Batch of Numpy label data\n",
    "    \"\"\"\n",
    "    # TODO: Implement Function\n",
    "    session.run(optimizer, feed_dict= {x: feature_batch, \n",
    "                                y: label_batch, keep_prob: keep_probability})\n",
    "\n",
    "\n",
    "\"\"\"\n",
    "DON'T MODIFY ANYTHING IN THIS CELL THAT IS BELOW THIS LINE\n",
    "\"\"\"\n",
    "tests.test_train_nn(train_neural_network)"
   ]
  },
  {
   "cell_type": "markdown",
   "metadata": {},
   "source": [
    "### Show Stats\n",
    "Implement the function `print_stats` to print loss and validation accuracy.  Use the global variables `valid_features` and `valid_labels` to calculate validation accuracy.  Use a keep probability of `1.0` to calculate the loss and validation accuracy."
   ]
  },
  {
   "cell_type": "code",
   "execution_count": 159,
   "metadata": {},
   "outputs": [],
   "source": [
    "def print_stats(session, feature_batch, label_batch, cost, accuracy):\n",
    "    \"\"\"\n",
    "    Print information about loss and validation accuracy\n",
    "    : session: Current TensorFlow session\n",
    "    : feature_batch: Batch of Numpy image data\n",
    "    : label_batch: Batch of Numpy label data\n",
    "    : cost: TensorFlow cost function\n",
    "    : accuracy: TensorFlow accuracy function\n",
    "    \"\"\"\n",
    "    # TODO: Implement Function\n",
    "    loss = session.run(cost, feed_dict={x: feature_batch, \n",
    "                                y: label_batch, keep_prob: 1.0})\n",
    "    val_accuracy = session.run(accuracy, feed_dict={x: valid_features, \n",
    "                                                    y: valid_labels, keep_prob: 1.0})\n",
    "    print('Loss: {:.5f}. Accuracy: {:.5f}'.format(loss, val_accuracy))"
   ]
  },
  {
   "cell_type": "markdown",
   "metadata": {},
   "source": [
    "### Hyperparameters\n",
    "Tune the following parameters:\n",
    "* Set `epochs` to the number of iterations until the network stops learning or start overfitting\n",
    "* Set `batch_size` to the highest number that your machine has memory for.  Most people set them to common sizes of memory:\n",
    " * 64\n",
    " * 128\n",
    " * 256\n",
    " * ...\n",
    "* Set `keep_probability` to the probability of keeping a node using dropout"
   ]
  },
  {
   "cell_type": "code",
   "execution_count": 160,
   "metadata": {},
   "outputs": [],
   "source": [
    "# TODO: Tune Parameters\n",
    "epochs = 40\n",
    "batch_size = 128\n",
    "keep_probability = 0.8"
   ]
  },
  {
   "cell_type": "markdown",
   "metadata": {},
   "source": [
    "### Train on a Single CIFAR-10 Batch\n",
    "Instead of training the neural network on all the CIFAR-10 batches of data, let's use a single batch. This should save time while you iterate on the model to get a better accuracy.  Once the final validation accuracy is 50% or greater, run the model on all the data in the next section."
   ]
  },
  {
   "cell_type": "code",
   "execution_count": 161,
   "metadata": {},
   "outputs": [
    {
     "name": "stdout",
     "output_type": "stream",
     "text": [
      "Checking the Training on a Single Batch...\n",
      "Epoch  1, CIFAR-10 Batch 1:  Loss: 2.26754. Accuracy: 0.18900\n",
      "Epoch  2, CIFAR-10 Batch 1:  Loss: 2.11451. Accuracy: 0.27120\n",
      "Epoch  3, CIFAR-10 Batch 1:  Loss: 2.01501. Accuracy: 0.34280\n",
      "Epoch  4, CIFAR-10 Batch 1:  Loss: 1.90301. Accuracy: 0.37300\n",
      "Epoch  5, CIFAR-10 Batch 1:  Loss: 1.77650. Accuracy: 0.39240\n",
      "Epoch  6, CIFAR-10 Batch 1:  Loss: 1.72356. Accuracy: 0.41020\n",
      "Epoch  7, CIFAR-10 Batch 1:  Loss: 1.65909. Accuracy: 0.42900\n",
      "Epoch  8, CIFAR-10 Batch 1:  Loss: 1.53832. Accuracy: 0.45440\n",
      "Epoch  9, CIFAR-10 Batch 1:  Loss: 1.53048. Accuracy: 0.45800\n",
      "Epoch 10, CIFAR-10 Batch 1:  Loss: 1.47165. Accuracy: 0.46740\n",
      "Epoch 11, CIFAR-10 Batch 1:  Loss: 1.41059. Accuracy: 0.47060\n",
      "Epoch 12, CIFAR-10 Batch 1:  Loss: 1.37916. Accuracy: 0.47640\n",
      "Epoch 13, CIFAR-10 Batch 1:  Loss: 1.23216. Accuracy: 0.48880\n",
      "Epoch 14, CIFAR-10 Batch 1:  Loss: 1.11970. Accuracy: 0.49360\n",
      "Epoch 15, CIFAR-10 Batch 1:  Loss: 1.05150. Accuracy: 0.50660\n",
      "Epoch 16, CIFAR-10 Batch 1:  Loss: 0.98304. Accuracy: 0.51080\n",
      "Epoch 17, CIFAR-10 Batch 1:  Loss: 0.93577. Accuracy: 0.51140\n",
      "Epoch 18, CIFAR-10 Batch 1:  Loss: 0.95326. Accuracy: 0.50880\n",
      "Epoch 19, CIFAR-10 Batch 1:  Loss: 0.92343. Accuracy: 0.51080\n",
      "Epoch 20, CIFAR-10 Batch 1:  Loss: 0.86448. Accuracy: 0.51120\n",
      "Epoch 21, CIFAR-10 Batch 1:  Loss: 0.81197. Accuracy: 0.51940\n",
      "Epoch 22, CIFAR-10 Batch 1:  Loss: 0.79853. Accuracy: 0.52120\n",
      "Epoch 23, CIFAR-10 Batch 1:  Loss: 0.76277. Accuracy: 0.52800\n",
      "Epoch 24, CIFAR-10 Batch 1:  Loss: 0.67673. Accuracy: 0.53200\n",
      "Epoch 25, CIFAR-10 Batch 1:  Loss: 0.68107. Accuracy: 0.53560\n",
      "Epoch 26, CIFAR-10 Batch 1:  Loss: 0.64903. Accuracy: 0.53440\n",
      "Epoch 27, CIFAR-10 Batch 1:  Loss: 0.64420. Accuracy: 0.52660\n",
      "Epoch 28, CIFAR-10 Batch 1:  Loss: 0.60751. Accuracy: 0.51580\n",
      "Epoch 29, CIFAR-10 Batch 1:  Loss: 0.58087. Accuracy: 0.50880\n",
      "Epoch 30, CIFAR-10 Batch 1:  Loss: 0.60828. Accuracy: 0.50580\n",
      "Epoch 31, CIFAR-10 Batch 1:  Loss: 0.60133. Accuracy: 0.50240\n",
      "Epoch 32, CIFAR-10 Batch 1:  Loss: 0.51942. Accuracy: 0.52280\n",
      "Epoch 33, CIFAR-10 Batch 1:  Loss: 0.48309. Accuracy: 0.53660\n",
      "Epoch 34, CIFAR-10 Batch 1:  Loss: 0.43500. Accuracy: 0.54280\n",
      "Epoch 35, CIFAR-10 Batch 1:  Loss: 0.41704. Accuracy: 0.53800\n",
      "Epoch 36, CIFAR-10 Batch 1:  Loss: 0.38741. Accuracy: 0.53980\n",
      "Epoch 37, CIFAR-10 Batch 1:  Loss: 0.35412. Accuracy: 0.54600\n",
      "Epoch 38, CIFAR-10 Batch 1:  Loss: 0.32846. Accuracy: 0.54820\n",
      "Epoch 39, CIFAR-10 Batch 1:  Loss: 0.36417. Accuracy: 0.53120\n",
      "Epoch 40, CIFAR-10 Batch 1:  Loss: 0.31204. Accuracy: 0.54620\n"
     ]
    }
   ],
   "source": [
    "\"\"\"\n",
    "DON'T MODIFY ANYTHING IN THIS CELL\n",
    "\"\"\"\n",
    "print('Checking the Training on a Single Batch...')\n",
    "with tf.Session() as sess:\n",
    "    # Initializing the variables\n",
    "    sess.run(tf.global_variables_initializer())\n",
    "    \n",
    "    # Training cycle\n",
    "    for epoch in range(epochs):\n",
    "        batch_i = 1\n",
    "        for batch_features, batch_labels in helper.load_preprocess_training_batch(batch_i, batch_size):\n",
    "            train_neural_network(sess, optimizer, keep_probability, batch_features, batch_labels)\n",
    "        print('Epoch {:>2}, CIFAR-10 Batch {}:  '.format(epoch + 1, batch_i), end='')\n",
    "        print_stats(sess, batch_features, batch_labels, cost, accuracy)"
   ]
  },
  {
   "cell_type": "markdown",
   "metadata": {},
   "source": [
    "### Fully Train the Model\n",
    "Now that you got a good accuracy with a single CIFAR-10 batch, try it with all five batches."
   ]
  },
  {
   "cell_type": "code",
   "execution_count": 162,
   "metadata": {},
   "outputs": [
    {
     "name": "stdout",
     "output_type": "stream",
     "text": [
      "Training...\n",
      "Epoch  1, CIFAR-10 Batch 1:  Loss: 2.25059. Accuracy: 0.16080\n",
      "Epoch  1, CIFAR-10 Batch 2:  Loss: 2.09201. Accuracy: 0.25740\n",
      "Epoch  1, CIFAR-10 Batch 3:  Loss: 1.88458. Accuracy: 0.30860\n",
      "Epoch  1, CIFAR-10 Batch 4:  Loss: 1.80774. Accuracy: 0.36900\n",
      "Epoch  1, CIFAR-10 Batch 5:  Loss: 1.86173. Accuracy: 0.38620\n",
      "Epoch  2, CIFAR-10 Batch 1:  Loss: 1.93753. Accuracy: 0.40380\n",
      "Epoch  2, CIFAR-10 Batch 2:  Loss: 1.69424. Accuracy: 0.42120\n",
      "Epoch  2, CIFAR-10 Batch 3:  Loss: 1.41905. Accuracy: 0.44000\n",
      "Epoch  2, CIFAR-10 Batch 4:  Loss: 1.41637. Accuracy: 0.46660\n",
      "Epoch  2, CIFAR-10 Batch 5:  Loss: 1.58933. Accuracy: 0.45740\n",
      "Epoch  3, CIFAR-10 Batch 1:  Loss: 1.74297. Accuracy: 0.48180\n",
      "Epoch  3, CIFAR-10 Batch 2:  Loss: 1.47232. Accuracy: 0.47240\n",
      "Epoch  3, CIFAR-10 Batch 3:  Loss: 1.23919. Accuracy: 0.49280\n",
      "Epoch  3, CIFAR-10 Batch 4:  Loss: 1.29461. Accuracy: 0.50000\n",
      "Epoch  3, CIFAR-10 Batch 5:  Loss: 1.43065. Accuracy: 0.50620\n",
      "Epoch  4, CIFAR-10 Batch 1:  Loss: 1.56406. Accuracy: 0.50800\n",
      "Epoch  4, CIFAR-10 Batch 2:  Loss: 1.37214. Accuracy: 0.50080\n",
      "Epoch  4, CIFAR-10 Batch 3:  Loss: 1.13432. Accuracy: 0.50780\n",
      "Epoch  4, CIFAR-10 Batch 4:  Loss: 1.13043. Accuracy: 0.52700\n",
      "Epoch  4, CIFAR-10 Batch 5:  Loss: 1.30538. Accuracy: 0.52220\n",
      "Epoch  5, CIFAR-10 Batch 1:  Loss: 1.49041. Accuracy: 0.52240\n",
      "Epoch  5, CIFAR-10 Batch 2:  Loss: 1.22834. Accuracy: 0.51580\n",
      "Epoch  5, CIFAR-10 Batch 3:  Loss: 1.04746. Accuracy: 0.52340\n",
      "Epoch  5, CIFAR-10 Batch 4:  Loss: 1.10594. Accuracy: 0.54480\n",
      "Epoch  5, CIFAR-10 Batch 5:  Loss: 1.28922. Accuracy: 0.54280\n",
      "Epoch  6, CIFAR-10 Batch 1:  Loss: 1.45047. Accuracy: 0.54500\n",
      "Epoch  6, CIFAR-10 Batch 2:  Loss: 1.11192. Accuracy: 0.54180\n",
      "Epoch  6, CIFAR-10 Batch 3:  Loss: 1.00497. Accuracy: 0.54120\n",
      "Epoch  6, CIFAR-10 Batch 4:  Loss: 1.04240. Accuracy: 0.55520\n",
      "Epoch  6, CIFAR-10 Batch 5:  Loss: 1.26581. Accuracy: 0.54920\n",
      "Epoch  7, CIFAR-10 Batch 1:  Loss: 1.30935. Accuracy: 0.54620\n",
      "Epoch  7, CIFAR-10 Batch 2:  Loss: 1.11540. Accuracy: 0.54700\n",
      "Epoch  7, CIFAR-10 Batch 3:  Loss: 0.95616. Accuracy: 0.55560\n",
      "Epoch  7, CIFAR-10 Batch 4:  Loss: 1.00287. Accuracy: 0.56740\n",
      "Epoch  7, CIFAR-10 Batch 5:  Loss: 1.24256. Accuracy: 0.55280\n",
      "Epoch  8, CIFAR-10 Batch 1:  Loss: 1.17641. Accuracy: 0.56440\n",
      "Epoch  8, CIFAR-10 Batch 2:  Loss: 1.06347. Accuracy: 0.56380\n",
      "Epoch  8, CIFAR-10 Batch 3:  Loss: 0.92075. Accuracy: 0.54680\n",
      "Epoch  8, CIFAR-10 Batch 4:  Loss: 0.90406. Accuracy: 0.56920\n",
      "Epoch  8, CIFAR-10 Batch 5:  Loss: 1.19639. Accuracy: 0.56060\n",
      "Epoch  9, CIFAR-10 Batch 1:  Loss: 1.11098. Accuracy: 0.57760\n",
      "Epoch  9, CIFAR-10 Batch 2:  Loss: 0.96873. Accuracy: 0.57220\n",
      "Epoch  9, CIFAR-10 Batch 3:  Loss: 0.87729. Accuracy: 0.57140\n",
      "Epoch  9, CIFAR-10 Batch 4:  Loss: 0.87703. Accuracy: 0.58900\n",
      "Epoch  9, CIFAR-10 Batch 5:  Loss: 1.09559. Accuracy: 0.58000\n",
      "Epoch 10, CIFAR-10 Batch 1:  Loss: 1.05605. Accuracy: 0.59120\n",
      "Epoch 10, CIFAR-10 Batch 2:  Loss: 0.91727. Accuracy: 0.59280\n",
      "Epoch 10, CIFAR-10 Batch 3:  Loss: 0.81588. Accuracy: 0.58560\n",
      "Epoch 10, CIFAR-10 Batch 4:  Loss: 0.80037. Accuracy: 0.60040\n",
      "Epoch 10, CIFAR-10 Batch 5:  Loss: 0.95418. Accuracy: 0.59000\n",
      "Epoch 11, CIFAR-10 Batch 1:  Loss: 0.95799. Accuracy: 0.59840\n",
      "Epoch 11, CIFAR-10 Batch 2:  Loss: 0.88182. Accuracy: 0.59680\n",
      "Epoch 11, CIFAR-10 Batch 3:  Loss: 0.77560. Accuracy: 0.60020\n",
      "Epoch 11, CIFAR-10 Batch 4:  Loss: 0.71729. Accuracy: 0.60920\n",
      "Epoch 11, CIFAR-10 Batch 5:  Loss: 0.93723. Accuracy: 0.59000\n",
      "Epoch 12, CIFAR-10 Batch 1:  Loss: 0.97173. Accuracy: 0.60300\n",
      "Epoch 12, CIFAR-10 Batch 2:  Loss: 0.80864. Accuracy: 0.60200\n",
      "Epoch 12, CIFAR-10 Batch 3:  Loss: 0.71792. Accuracy: 0.59320\n",
      "Epoch 12, CIFAR-10 Batch 4:  Loss: 0.66090. Accuracy: 0.60640\n",
      "Epoch 12, CIFAR-10 Batch 5:  Loss: 0.81385. Accuracy: 0.59460\n",
      "Epoch 13, CIFAR-10 Batch 1:  Loss: 0.92272. Accuracy: 0.60540\n",
      "Epoch 13, CIFAR-10 Batch 2:  Loss: 0.76621. Accuracy: 0.60160\n",
      "Epoch 13, CIFAR-10 Batch 3:  Loss: 0.67214. Accuracy: 0.59700\n",
      "Epoch 13, CIFAR-10 Batch 4:  Loss: 0.66756. Accuracy: 0.61440\n",
      "Epoch 13, CIFAR-10 Batch 5:  Loss: 0.78102. Accuracy: 0.60740\n",
      "Epoch 14, CIFAR-10 Batch 1:  Loss: 0.88991. Accuracy: 0.61300\n",
      "Epoch 14, CIFAR-10 Batch 2:  Loss: 0.73362. Accuracy: 0.61800\n",
      "Epoch 14, CIFAR-10 Batch 3:  Loss: 0.60906. Accuracy: 0.61700\n",
      "Epoch 14, CIFAR-10 Batch 4:  Loss: 0.60902. Accuracy: 0.62500\n",
      "Epoch 14, CIFAR-10 Batch 5:  Loss: 0.70972. Accuracy: 0.60580\n",
      "Epoch 15, CIFAR-10 Batch 1:  Loss: 0.81965. Accuracy: 0.61680\n",
      "Epoch 15, CIFAR-10 Batch 2:  Loss: 0.69280. Accuracy: 0.61520\n",
      "Epoch 15, CIFAR-10 Batch 3:  Loss: 0.59035. Accuracy: 0.62000\n",
      "Epoch 15, CIFAR-10 Batch 4:  Loss: 0.56279. Accuracy: 0.62200\n",
      "Epoch 15, CIFAR-10 Batch 5:  Loss: 0.61986. Accuracy: 0.60980\n",
      "Epoch 16, CIFAR-10 Batch 1:  Loss: 0.83119. Accuracy: 0.61420\n",
      "Epoch 16, CIFAR-10 Batch 2:  Loss: 0.69238. Accuracy: 0.62800\n",
      "Epoch 16, CIFAR-10 Batch 3:  Loss: 0.56136. Accuracy: 0.60980\n",
      "Epoch 16, CIFAR-10 Batch 4:  Loss: 0.48646. Accuracy: 0.62620\n",
      "Epoch 16, CIFAR-10 Batch 5:  Loss: 0.55968. Accuracy: 0.61400\n",
      "Epoch 17, CIFAR-10 Batch 1:  Loss: 0.75550. Accuracy: 0.63000\n",
      "Epoch 17, CIFAR-10 Batch 2:  Loss: 0.62598. Accuracy: 0.61820\n",
      "Epoch 17, CIFAR-10 Batch 3:  Loss: 0.48253. Accuracy: 0.62940\n",
      "Epoch 17, CIFAR-10 Batch 4:  Loss: 0.50496. Accuracy: 0.62800\n",
      "Epoch 17, CIFAR-10 Batch 5:  Loss: 0.52021. Accuracy: 0.62200\n",
      "Epoch 18, CIFAR-10 Batch 1:  Loss: 0.75638. Accuracy: 0.61940\n",
      "Epoch 18, CIFAR-10 Batch 2:  Loss: 0.63067. Accuracy: 0.62480\n",
      "Epoch 18, CIFAR-10 Batch 3:  Loss: 0.45071. Accuracy: 0.62660\n",
      "Epoch 18, CIFAR-10 Batch 4:  Loss: 0.46169. Accuracy: 0.62760\n",
      "Epoch 18, CIFAR-10 Batch 5:  Loss: 0.52623. Accuracy: 0.61180\n",
      "Epoch 19, CIFAR-10 Batch 1:  Loss: 0.62378. Accuracy: 0.62120\n",
      "Epoch 19, CIFAR-10 Batch 2:  Loss: 0.56212. Accuracy: 0.62560\n",
      "Epoch 19, CIFAR-10 Batch 3:  Loss: 0.39359. Accuracy: 0.63660\n",
      "Epoch 19, CIFAR-10 Batch 4:  Loss: 0.45961. Accuracy: 0.62400\n",
      "Epoch 19, CIFAR-10 Batch 5:  Loss: 0.46350. Accuracy: 0.63000\n",
      "Epoch 20, CIFAR-10 Batch 1:  Loss: 0.62382. Accuracy: 0.62560\n",
      "Epoch 20, CIFAR-10 Batch 2:  Loss: 0.55779. Accuracy: 0.63160\n",
      "Epoch 20, CIFAR-10 Batch 3:  Loss: 0.36611. Accuracy: 0.63600\n",
      "Epoch 20, CIFAR-10 Batch 4:  Loss: 0.39808. Accuracy: 0.63220\n",
      "Epoch 20, CIFAR-10 Batch 5:  Loss: 0.44154. Accuracy: 0.63060\n",
      "Epoch 21, CIFAR-10 Batch 1:  Loss: 0.62148. Accuracy: 0.61860\n",
      "Epoch 21, CIFAR-10 Batch 2:  Loss: 0.52175. Accuracy: 0.63180\n",
      "Epoch 21, CIFAR-10 Batch 3:  Loss: 0.34501. Accuracy: 0.63720\n",
      "Epoch 21, CIFAR-10 Batch 4:  Loss: 0.37382. Accuracy: 0.62860\n",
      "Epoch 21, CIFAR-10 Batch 5:  Loss: 0.42449. Accuracy: 0.63440\n",
      "Epoch 22, CIFAR-10 Batch 1:  Loss: 0.60165. Accuracy: 0.62500\n",
      "Epoch 22, CIFAR-10 Batch 2:  Loss: 0.49356. Accuracy: 0.64300\n",
      "Epoch 22, CIFAR-10 Batch 3:  Loss: 0.31188. Accuracy: 0.63460\n",
      "Epoch 22, CIFAR-10 Batch 4:  Loss: 0.35876. Accuracy: 0.63480\n",
      "Epoch 22, CIFAR-10 Batch 5:  Loss: 0.36972. Accuracy: 0.63120\n",
      "Epoch 23, CIFAR-10 Batch 1:  Loss: 0.60889. Accuracy: 0.63520\n",
      "Epoch 23, CIFAR-10 Batch 2:  Loss: 0.44778. Accuracy: 0.63700\n",
      "Epoch 23, CIFAR-10 Batch 3:  Loss: 0.30874. Accuracy: 0.63620\n",
      "Epoch 23, CIFAR-10 Batch 4:  Loss: 0.35547. Accuracy: 0.63680\n",
      "Epoch 23, CIFAR-10 Batch 5:  Loss: 0.36067. Accuracy: 0.63940\n",
      "Epoch 24, CIFAR-10 Batch 1:  Loss: 0.55163. Accuracy: 0.63400\n",
      "Epoch 24, CIFAR-10 Batch 2:  Loss: 0.43690. Accuracy: 0.64540\n",
      "Epoch 24, CIFAR-10 Batch 3:  Loss: 0.26728. Accuracy: 0.63760\n",
      "Epoch 24, CIFAR-10 Batch 4:  Loss: 0.34012. Accuracy: 0.63540\n",
      "Epoch 24, CIFAR-10 Batch 5:  Loss: 0.31818. Accuracy: 0.63640\n",
      "Epoch 25, CIFAR-10 Batch 1:  Loss: 0.52913. Accuracy: 0.63540\n",
      "Epoch 25, CIFAR-10 Batch 2:  Loss: 0.43221. Accuracy: 0.64460\n",
      "Epoch 25, CIFAR-10 Batch 3:  Loss: 0.23360. Accuracy: 0.64400\n",
      "Epoch 25, CIFAR-10 Batch 4:  Loss: 0.32264. Accuracy: 0.63300\n",
      "Epoch 25, CIFAR-10 Batch 5:  Loss: 0.31693. Accuracy: 0.64020\n",
      "Epoch 26, CIFAR-10 Batch 1:  Loss: 0.51988. Accuracy: 0.63420\n",
      "Epoch 26, CIFAR-10 Batch 2:  Loss: 0.40976. Accuracy: 0.64300\n",
      "Epoch 26, CIFAR-10 Batch 3:  Loss: 0.22448. Accuracy: 0.64300\n",
      "Epoch 26, CIFAR-10 Batch 4:  Loss: 0.26786. Accuracy: 0.63820\n",
      "Epoch 26, CIFAR-10 Batch 5:  Loss: 0.30148. Accuracy: 0.63280\n",
      "Epoch 27, CIFAR-10 Batch 1:  Loss: 0.49281. Accuracy: 0.63440\n",
      "Epoch 27, CIFAR-10 Batch 2:  Loss: 0.34645. Accuracy: 0.64180\n"
     ]
    },
    {
     "name": "stdout",
     "output_type": "stream",
     "text": [
      "Epoch 27, CIFAR-10 Batch 3:  Loss: 0.23403. Accuracy: 0.64120\n",
      "Epoch 27, CIFAR-10 Batch 4:  Loss: 0.28496. Accuracy: 0.63160\n",
      "Epoch 27, CIFAR-10 Batch 5:  Loss: 0.27876. Accuracy: 0.64000\n",
      "Epoch 28, CIFAR-10 Batch 1:  Loss: 0.48514. Accuracy: 0.63720\n",
      "Epoch 28, CIFAR-10 Batch 2:  Loss: 0.35734. Accuracy: 0.64200\n",
      "Epoch 28, CIFAR-10 Batch 3:  Loss: 0.22379. Accuracy: 0.64380\n",
      "Epoch 28, CIFAR-10 Batch 4:  Loss: 0.27965. Accuracy: 0.62760\n",
      "Epoch 28, CIFAR-10 Batch 5:  Loss: 0.26053. Accuracy: 0.62860\n",
      "Epoch 29, CIFAR-10 Batch 1:  Loss: 0.45544. Accuracy: 0.64020\n",
      "Epoch 29, CIFAR-10 Batch 2:  Loss: 0.34573. Accuracy: 0.63860\n",
      "Epoch 29, CIFAR-10 Batch 3:  Loss: 0.20264. Accuracy: 0.63980\n",
      "Epoch 29, CIFAR-10 Batch 4:  Loss: 0.25931. Accuracy: 0.63200\n",
      "Epoch 29, CIFAR-10 Batch 5:  Loss: 0.29059. Accuracy: 0.62440\n",
      "Epoch 30, CIFAR-10 Batch 1:  Loss: 0.41299. Accuracy: 0.63520\n",
      "Epoch 30, CIFAR-10 Batch 2:  Loss: 0.32111. Accuracy: 0.63900\n",
      "Epoch 30, CIFAR-10 Batch 3:  Loss: 0.20840. Accuracy: 0.63960\n",
      "Epoch 30, CIFAR-10 Batch 4:  Loss: 0.27033. Accuracy: 0.62280\n",
      "Epoch 30, CIFAR-10 Batch 5:  Loss: 0.22329. Accuracy: 0.63500\n",
      "Epoch 31, CIFAR-10 Batch 1:  Loss: 0.37904. Accuracy: 0.64240\n",
      "Epoch 31, CIFAR-10 Batch 2:  Loss: 0.29851. Accuracy: 0.64000\n",
      "Epoch 31, CIFAR-10 Batch 3:  Loss: 0.17738. Accuracy: 0.64100\n",
      "Epoch 31, CIFAR-10 Batch 4:  Loss: 0.27725. Accuracy: 0.62620\n",
      "Epoch 31, CIFAR-10 Batch 5:  Loss: 0.23959. Accuracy: 0.62640\n",
      "Epoch 32, CIFAR-10 Batch 1:  Loss: 0.40507. Accuracy: 0.63060\n",
      "Epoch 32, CIFAR-10 Batch 2:  Loss: 0.31308. Accuracy: 0.63700\n",
      "Epoch 32, CIFAR-10 Batch 3:  Loss: 0.17296. Accuracy: 0.64140\n",
      "Epoch 32, CIFAR-10 Batch 4:  Loss: 0.27131. Accuracy: 0.61920\n",
      "Epoch 32, CIFAR-10 Batch 5:  Loss: 0.20641. Accuracy: 0.64060\n",
      "Epoch 33, CIFAR-10 Batch 1:  Loss: 0.41408. Accuracy: 0.63460\n",
      "Epoch 33, CIFAR-10 Batch 2:  Loss: 0.28120. Accuracy: 0.63580\n",
      "Epoch 33, CIFAR-10 Batch 3:  Loss: 0.18094. Accuracy: 0.63700\n",
      "Epoch 33, CIFAR-10 Batch 4:  Loss: 0.22126. Accuracy: 0.63300\n",
      "Epoch 33, CIFAR-10 Batch 5:  Loss: 0.24113. Accuracy: 0.63780\n",
      "Epoch 34, CIFAR-10 Batch 1:  Loss: 0.40316. Accuracy: 0.62800\n",
      "Epoch 34, CIFAR-10 Batch 2:  Loss: 0.29249. Accuracy: 0.62860\n",
      "Epoch 34, CIFAR-10 Batch 3:  Loss: 0.13411. Accuracy: 0.64140\n",
      "Epoch 34, CIFAR-10 Batch 4:  Loss: 0.22934. Accuracy: 0.62820\n",
      "Epoch 34, CIFAR-10 Batch 5:  Loss: 0.19577. Accuracy: 0.64240\n",
      "Epoch 35, CIFAR-10 Batch 1:  Loss: 0.42563. Accuracy: 0.62060\n",
      "Epoch 35, CIFAR-10 Batch 2:  Loss: 0.28236. Accuracy: 0.64100\n",
      "Epoch 35, CIFAR-10 Batch 3:  Loss: 0.15337. Accuracy: 0.63180\n",
      "Epoch 35, CIFAR-10 Batch 4:  Loss: 0.25150. Accuracy: 0.62720\n",
      "Epoch 35, CIFAR-10 Batch 5:  Loss: 0.18535. Accuracy: 0.64320\n",
      "Epoch 36, CIFAR-10 Batch 1:  Loss: 0.36655. Accuracy: 0.62940\n",
      "Epoch 36, CIFAR-10 Batch 2:  Loss: 0.26451. Accuracy: 0.63580\n",
      "Epoch 36, CIFAR-10 Batch 3:  Loss: 0.17204. Accuracy: 0.63480\n",
      "Epoch 36, CIFAR-10 Batch 4:  Loss: 0.20315. Accuracy: 0.63460\n",
      "Epoch 36, CIFAR-10 Batch 5:  Loss: 0.19994. Accuracy: 0.64220\n",
      "Epoch 37, CIFAR-10 Batch 1:  Loss: 0.31989. Accuracy: 0.62500\n",
      "Epoch 37, CIFAR-10 Batch 2:  Loss: 0.25160. Accuracy: 0.63000\n",
      "Epoch 37, CIFAR-10 Batch 3:  Loss: 0.15936. Accuracy: 0.62840\n",
      "Epoch 37, CIFAR-10 Batch 4:  Loss: 0.18920. Accuracy: 0.63560\n",
      "Epoch 37, CIFAR-10 Batch 5:  Loss: 0.17402. Accuracy: 0.64080\n",
      "Epoch 38, CIFAR-10 Batch 1:  Loss: 0.32374. Accuracy: 0.63680\n",
      "Epoch 38, CIFAR-10 Batch 2:  Loss: 0.23274. Accuracy: 0.63080\n",
      "Epoch 38, CIFAR-10 Batch 3:  Loss: 0.13967. Accuracy: 0.61980\n",
      "Epoch 38, CIFAR-10 Batch 4:  Loss: 0.20650. Accuracy: 0.62640\n",
      "Epoch 38, CIFAR-10 Batch 5:  Loss: 0.17084. Accuracy: 0.64100\n",
      "Epoch 39, CIFAR-10 Batch 1:  Loss: 0.30113. Accuracy: 0.62840\n",
      "Epoch 39, CIFAR-10 Batch 2:  Loss: 0.25150. Accuracy: 0.62260\n",
      "Epoch 39, CIFAR-10 Batch 3:  Loss: 0.13768. Accuracy: 0.62160\n",
      "Epoch 39, CIFAR-10 Batch 4:  Loss: 0.17241. Accuracy: 0.62900\n",
      "Epoch 39, CIFAR-10 Batch 5:  Loss: 0.17522. Accuracy: 0.63660\n",
      "Epoch 40, CIFAR-10 Batch 1:  Loss: 0.27840. Accuracy: 0.63840\n",
      "Epoch 40, CIFAR-10 Batch 2:  Loss: 0.22440. Accuracy: 0.63100\n",
      "Epoch 40, CIFAR-10 Batch 3:  Loss: 0.12209. Accuracy: 0.62400\n",
      "Epoch 40, CIFAR-10 Batch 4:  Loss: 0.15950. Accuracy: 0.63040\n",
      "Epoch 40, CIFAR-10 Batch 5:  Loss: 0.20059. Accuracy: 0.63960\n"
     ]
    }
   ],
   "source": [
    "\"\"\"\n",
    "DON'T MODIFY ANYTHING IN THIS CELL\n",
    "\"\"\"\n",
    "save_model_path = './image_classification'\n",
    "\n",
    "print('Training...')\n",
    "with tf.Session() as sess:\n",
    "    # Initializing the variables\n",
    "    sess.run(tf.global_variables_initializer())\n",
    "    \n",
    "    # Training cycle\n",
    "    for epoch in range(epochs):\n",
    "        # Loop over all batches\n",
    "        n_batches = 5\n",
    "        for batch_i in range(1, n_batches + 1):\n",
    "            for batch_features, batch_labels in helper.load_preprocess_training_batch(batch_i, batch_size):\n",
    "                train_neural_network(sess, optimizer, keep_probability, batch_features, batch_labels)\n",
    "            print('Epoch {:>2}, CIFAR-10 Batch {}:  '.format(epoch + 1, batch_i), end='')\n",
    "            print_stats(sess, batch_features, batch_labels, cost, accuracy)\n",
    "            \n",
    "    # Save Model\n",
    "    saver = tf.train.Saver()\n",
    "    save_path = saver.save(sess, save_model_path)"
   ]
  },
  {
   "cell_type": "markdown",
   "metadata": {},
   "source": [
    "# Checkpoint\n",
    "The model has been saved to disk.\n",
    "## Test Model\n",
    "Test your model against the test dataset.  This will be your final accuracy. You should have an accuracy greater than 50%. If you don't, keep tweaking the model architecture and parameters."
   ]
  },
  {
   "cell_type": "code",
   "execution_count": 163,
   "metadata": {},
   "outputs": [
    {
     "name": "stdout",
     "output_type": "stream",
     "text": [
      "INFO:tensorflow:Restoring parameters from ./image_classification\n"
     ]
    },
    {
     "name": "stderr",
     "output_type": "stream",
     "text": [
      "INFO:tensorflow:Restoring parameters from ./image_classification\n"
     ]
    },
    {
     "name": "stdout",
     "output_type": "stream",
     "text": [
      "Testing Accuracy: 0.6362737341772152\n",
      "\n"
     ]
    },
    {
     "data": {
      "image/png": "[encoded data removed]",
      "text/plain": [
       "<Figure size 432x288 with 8 Axes>"
      ]
     },
     "metadata": {
      "image/png": {
       "height": 319,
       "width": 355
      },
      "needs_background": "light"
     },
     "output_type": "display_data"
    }
   ],
   "source": [
    "\"\"\"\n",
    "DON'T MODIFY ANYTHING IN THIS CELL\n",
    "\"\"\"\n",
    "%matplotlib inline\n",
    "%config InlineBackend.figure_format = 'retina'\n",
    "\n",
    "import tensorflow as tf\n",
    "import pickle\n",
    "import helper\n",
    "import random\n",
    "\n",
    "# Set batch size if not already set\n",
    "try:\n",
    "    if batch_size:\n",
    "        pass\n",
    "except NameError:\n",
    "    batch_size = 64\n",
    "\n",
    "save_model_path = './image_classification'\n",
    "n_samples = 4\n",
    "top_n_predictions = 3\n",
    "\n",
    "def test_model():\n",
    "    \"\"\"\n",
    "    Test the saved model against the test dataset\n",
    "    \"\"\"\n",
    "\n",
    "    test_features, test_labels = pickle.load(open('preprocess_test.p', mode='rb'))\n",
    "    loaded_graph = tf.Graph()\n",
    "\n",
    "    with tf.Session(graph=loaded_graph) as sess:\n",
    "        # Load model\n",
    "        loader = tf.train.import_meta_graph(save_model_path + '.meta')\n",
    "        loader.restore(sess, save_model_path)\n",
    "\n",
    "        # Get Tensors from loaded model\n",
    "        loaded_x = loaded_graph.get_tensor_by_name('x:0')\n",
    "        loaded_y = loaded_graph.get_tensor_by_name('y:0')\n",
    "        loaded_keep_prob = loaded_graph.get_tensor_by_name('keep_prob:0')\n",
    "        loaded_logits = loaded_graph.get_tensor_by_name('logits:0')\n",
    "        loaded_acc = loaded_graph.get_tensor_by_name('accuracy:0')\n",
    "        \n",
    "        # Get accuracy in batches for memory limitations\n",
    "        test_batch_acc_total = 0\n",
    "        test_batch_count = 0\n",
    "        \n",
    "        for test_feature_batch, test_label_batch in helper.batch_features_labels(test_features, test_labels, batch_size):\n",
    "            test_batch_acc_total += sess.run(\n",
    "                loaded_acc,\n",
    "                feed_dict={loaded_x: test_feature_batch, loaded_y: test_label_batch, loaded_keep_prob: 1.0})\n",
    "            test_batch_count += 1\n",
    "\n",
    "        print('Testing Accuracy: {}\\n'.format(test_batch_acc_total/test_batch_count))\n",
    "\n",
    "        # Print Random Samples\n",
    "        random_test_features, random_test_labels = tuple(zip(*random.sample(list(zip(test_features, test_labels)), n_samples)))\n",
    "        random_test_predictions = sess.run(\n",
    "            tf.nn.top_k(tf.nn.softmax(loaded_logits), top_n_predictions),\n",
    "            feed_dict={loaded_x: random_test_features, loaded_y: random_test_labels, loaded_keep_prob: 1.0})\n",
    "        helper.display_image_predictions(random_test_features, random_test_labels, random_test_predictions)\n",
    "\n",
    "\n",
    "test_model()"
   ]
  },
  {
   "cell_type": "markdown",
   "metadata": {},
   "source": [
    "## Why 50-80% Accuracy?\n",
    "You might be wondering why you can't get an accuracy any higher. First things first, 50% isn't bad for a simple CNN.  Pure guessing would get you 10% accuracy. However, you might notice people are getting scores [well above 80%](http://rodrigob.github.io/are_we_there_yet/build/classification_datasets_results.html#43494641522d3130).  That's because we haven't taught you all there is to know about neural networks. We still need to cover a few more techniques.\n",
    "## Submitting This Project\n",
    "When submitting this project, make sure to run all the cells before saving the notebook.  Save the notebook file as \"dlnd_image_classification.ipynb\" and save it as a HTML file under \"File\" -> \"Download as\".  Include the \"helper.py\" and \"problem_unittests.py\" files in your submission."
   ]
  },
  {
   "cell_type": "code",
   "execution_count": null,
   "metadata": {},
   "outputs": [],
   "source": []
  }
 ],
 "metadata": {
  "kernelspec": {
   "display_name": "pycharm_3.6",
   "language": "python",
   "name": "pycharm_3.6"
  },
  "language_info": {
   "codemirror_mode": {
    "name": "ipython",
    "version": 3
   },
   "file_extension": ".py",
   "mimetype": "text/x-python",
   "name": "python",
   "nbconvert_exporter": "python",
   "pygments_lexer": "ipython3",
   "version": "3.6.6"
  }
 },
 "nbformat": 4,
 "nbformat_minor": 1
}
